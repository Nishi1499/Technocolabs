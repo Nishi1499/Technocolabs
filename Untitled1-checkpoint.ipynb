{
 "cells": [
  {
   "cell_type": "code",
   "execution_count": 1,
   "metadata": {},
   "outputs": [
    {
     "name": "stdout",
     "output_type": "stream",
     "text": [
      "{'g': 2, 'o': 3, 'l': 1, 'e': 1, '.': 1, 'c': 1, 'm': 1}\n"
     ]
    }
   ],
   "source": [
    "#Python Data Type: String - Exercises\n",
    "#1. Write a Python program to count the number of characters (character frequency) in a string\n",
    "#Sample String : google.com'\n",
    "#Expected Result : {'o': 3, 'g': 2, '.': 1, 'e': 1, 'l': 1, 'm': 1, 'c': 1}\n",
    "\n",
    "str=\"google.com\"\n",
    "count={}\n",
    "for i in str: \n",
    "    if i in count:\n",
    "        count[i]+=1\n",
    "    else:\n",
    "        count[i]=1\n",
    "print(count)\n"
   ]
  },
  {
   "cell_type": "code",
   "execution_count": 2,
   "metadata": {},
   "outputs": [
    {
     "name": "stdout",
     "output_type": "stream",
     "text": [
      "restart\n"
     ]
    }
   ],
   "source": [
    "#¶\n",
    "#Sample String : 'restart'\n",
    "#Expected Result : 'resta$t'\n",
    "\n",
    "str=\"restart\"\n",
    "str_len= len(str)\n",
    "s=str[0]\n",
    "for i in range(1, str_len):   \n",
    "    if i is s:\n",
    "        i==\"$\"\n",
    "    else:\n",
    "        continue   \n",
    "print(str)"
   ]
  },
  {
   "cell_type": "code",
   "execution_count": 3,
   "metadata": {},
   "outputs": [
    {
     "name": "stdout",
     "output_type": "stream",
     "text": [
      "Bhawna\n"
     ]
    }
   ],
   "source": [
    "#3. Write a Python function that takes a list of words and returns the length of the longest one\n",
    "\n",
    "def longest_word(list):\n",
    "    word_len=[]\n",
    "    for n in list:\n",
    "        word_len.append((len(n),n))\n",
    "    word_len.sort()\n",
    "    return word_len[-1][1]\n",
    "print(longest_word([\"Nishi\",\"Bhawna\",\"shalu\"]))"
   ]
  },
  {
   "cell_type": "code",
   "execution_count": 4,
   "metadata": {},
   "outputs": [
    {
     "name": "stdout",
     "output_type": "stream",
     "text": [
      "Enter a string :Honesty is the best policy\n",
      "Enter word :the\n",
      "word count:\n",
      "1\n"
     ]
    }
   ],
   "source": [
    "#4. Write a Python program to count the occurrences of each word in a given sentence\n",
    "\n",
    "str =input(\"Enter a string :\")\n",
    "word= input(\"Enter word :\")\n",
    "a=[]\n",
    "count=0\n",
    "a= str.split(\" \")\n",
    "for i in range (0,len(a)):\n",
    "    if (word == a[i]):\n",
    "        count=count+1\n",
    "print(\"word count:\")\n",
    "print(count)\n"
   ]
  },
  {
   "cell_type": "code",
   "execution_count": 5,
   "metadata": {},
   "outputs": [
    {
     "name": "stdout",
     "output_type": "stream",
     "text": [
      "NISHI\n",
      "Ranu\n"
     ]
    }
   ],
   "source": [
    "#5. Write a Python function to convert a given string to all uppercase if it contains at least 2 uppercase characters in the first 4 characters.\n",
    "\n",
    "\n",
    "def Uppercase (str):\n",
    "    c=0\n",
    "    for i in str[:4]:\n",
    "        if i.upper()==i:\n",
    "            c+=1\n",
    "    if c>=2:\n",
    "        return str.upper()\n",
    "    return str\n",
    "print(Uppercase(\"NiShi\"))\n",
    "print(Uppercase(\"Ranu\"))"
   ]
  },
  {
   "cell_type": "code",
   "execution_count": 6,
   "metadata": {},
   "outputs": [
    {
     "name": "stdout",
     "output_type": "stream",
     "text": [
      "4\n",
      "['i', 'i', 'a', 'e']\n"
     ]
    }
   ],
   "source": [
    "#6. Write a Python program to count and display the vowels of a given text\n",
    "def Count_Vowel(str):\n",
    "    vowels=\"aeiouAEIOU\"\n",
    "    number_vowels=[i for i in str if i in vowels]\n",
    "    print(len(number_vowels))\n",
    "    print(number_vowels)\n",
    "    \n",
    "\n",
    "Count_Vowel(\"Nishi Karve\")"
   ]
  },
  {
   "cell_type": "code",
   "execution_count": 7,
   "metadata": {},
   "outputs": [
    {
     "name": "stdout",
     "output_type": "stream",
     "text": [
      "list have some element\n"
     ]
    }
   ],
   "source": [
    "## Python Data Type: List - Exercises\n",
    "#1. Write a Python program to check a list is empty or not\n",
    "def list_check(list1):\n",
    "    if list1==list():\n",
    "        print(\"list is empty\")\n",
    "    else:\n",
    "        print(\"list have some element\")\n",
    "list_check([\"nishi\",\"shalu\"])"
   ]
  },
  {
   "cell_type": "code",
   "execution_count": 8,
   "metadata": {},
   "outputs": [
    {
     "name": "stdout",
     "output_type": "stream",
     "text": [
      "[5, 7, 12, 45, 48]\n"
     ]
    }
   ],
   "source": [
    "#2. Write a Python program to remove duplicates from a list.\n",
    "def Remove(duplicate):\n",
    "    New_list=[]\n",
    "    for i in duplicate:\n",
    "        if i not in New_list:\n",
    "            New_list.append(i)\n",
    "            New_list.sort()\n",
    "    return New_list\n",
    "print(Remove([12,45,12,48,7,5,5,48,12,7]))"
   ]
  },
  {
   "cell_type": "code",
   "execution_count": 9,
   "metadata": {},
   "outputs": [
    {
     "name": "stdout",
     "output_type": "stream",
     "text": [
      "True\n"
     ]
    }
   ],
   "source": [
    "#3. Write a Python function that takes two lists and returns True if they have at least one common member\n",
    "def Comman_member(list1,list2):\n",
    "    comman=False\n",
    "    for i in list1:\n",
    "        for j in list2:\n",
    "            if i==j:\n",
    "                comman=True\n",
    "    return comman\n",
    "print(Comman_member([1,2,3,4,5,6],[ 4,5,9,8,7]))"
   ]
  },
  {
   "cell_type": "code",
   "execution_count": 11,
   "metadata": {},
   "outputs": [
    {
     "name": "stdout",
     "output_type": "stream",
     "text": [
      "[16, 12]\n"
     ]
    }
   ],
   "source": [
    "#4. Write a Python program to get the difference between the two lists\n",
    "list1=[15,12,19,16]\n",
    "list2=[13,15,14,19]\n",
    "print(list(set(list1)-set(list2)))"
   ]
  },
  {
   "cell_type": "code",
   "execution_count": 12,
   "metadata": {},
   "outputs": [
    {
     "name": "stdout",
     "output_type": "stream",
     "text": [
      "Second Smallest number :  12\n"
     ]
    }
   ],
   "source": [
    "\n",
    "#5. Write a Python program to find the second smallest number in a list\n",
    "\n",
    "def Smallest(list1):\n",
    "    length=len(list1)\n",
    "    list1.sort()\n",
    "    print(\"Second Smallest number : \",list1[1])\n",
    "   \n",
    "\n",
    "element=Smallest([45,85,55,12,4,15])"
   ]
  },
  {
   "cell_type": "code",
   "execution_count": 13,
   "metadata": {},
   "outputs": [
    {
     "name": "stdout",
     "output_type": "stream",
     "text": [
      "Second largest number :  55\n"
     ]
    }
   ],
   "source": [
    "#6. Write a Python program to find the second largest number in a list\n",
    "\n",
    "def Largest(list1):\n",
    "    length=len(list1)\n",
    "    list1.sort()\n",
    "    print(\"Second largest number : \",list1[-2])\n",
    "   \n",
    "\n",
    "element=Largest([45,85,55,12,4,15])"
   ]
  },
  {
   "cell_type": "code",
   "execution_count": 21,
   "metadata": {},
   "outputs": [
    {
     "name": "stdout",
     "output_type": "stream",
     "text": [
      "Original List :  [1, 5, 1, 10, 15, 20, 15, 5, 1, 5, 20, 15, 1]\n",
      "Frequency of the elements in the List :  Counter({1: 4, 5: 3, 15: 3, 20: 2, 10: 1})\n"
     ]
    }
   ],
   "source": [
    "#7. Write a Python program to get the frequency of the elements in a list\n",
    "\n",
    "import collections\n",
    "my_list = [1,5,1,10,15,20,15,5,1,5,20,15,1]\n",
    "print(\"Original List : \",my_list)\n",
    "ctr = collections.Counter(my_list)\n",
    "print(\"Frequency of the elements in the List : \",ctr)"
   ]
  },
  {
   "cell_type": "code",
   "execution_count": 1,
   "metadata": {},
   "outputs": [
    {
     "name": "stdout",
     "output_type": "stream",
     "text": [
      "113350"
     ]
    }
   ],
   "source": [
    "#8. Write a Python program to convert a list of multiple integers into a single integer\n",
    "\n",
    "L = [11, 33, 50]\n",
    "for i in L:\n",
    "    print(i,end=\"\")\n"
   ]
  },
  {
   "cell_type": "code",
   "execution_count": 1,
   "metadata": {},
   "outputs": [
    {
     "name": "stdout",
     "output_type": "stream",
     "text": [
      "num1-num2:  [10, 30]\n",
      "num2-num1:  [50, 60]\n"
     ]
    }
   ],
   "source": [
    "#9. Write a Python program to compute the similarity between two lists.\n",
    "\n",
    "from collections import Counter\n",
    "num1 = [10,20,30,40]\n",
    "num2 = [50,40,20,60,45]\n",
    "counter1 = Counter(num1)\n",
    "counter2 = Counter(num2)\n",
    "print(\"num1-num2: \",list(counter1 - counter2))\n",
    "print(\"num2-num1: \",list(counter2 - counter1))"
   ]
  },
  {
   "cell_type": "code",
   "execution_count": 1,
   "metadata": {},
   "outputs": [
    {
     "name": "stdout",
     "output_type": "stream",
     "text": [
      "Input a number 4\n",
      "{1: 1, 2: 4, 3: 9, 4: 16}\n"
     ]
    }
   ],
   "source": [
    "\n",
    "#1. Write a Python script to generate and print a dictionary that contains a number (between 1 and n) in the form (x, x*x)\n",
    "\n",
    "n=int(input(\"Input a number \"))\n",
    "d = dict()\n",
    "\n",
    "for x in range(1,n+1):\n",
    "    d[x]=x*x\n",
    "\n",
    "print(d)"
   ]
  },
  {
   "cell_type": "code",
   "execution_count": 3,
   "metadata": {},
   "outputs": [
    {
     "name": "stdout",
     "output_type": "stream",
     "text": [
      "Counter({'a': 40, 'b': 40, 'd': 40, 'c': 30})\n"
     ]
    }
   ],
   "source": [
    "\n",
    "#2. Write a Python program to combine two dictionary adding values for common keys\n",
    "\n",
    "from collections import Counter\n",
    "d1 = {'a': 10, 'b': 20, 'c':30}\n",
    "d2 = {'a': 30, 'b': 20, 'd':40}\n",
    "d = Counter(d1) + Counter(d2)\n",
    "print(d)"
   ]
  },
  {
   "cell_type": "code",
   "execution_count": 4,
   "metadata": {},
   "outputs": [
    {
     "name": "stdout",
     "output_type": "stream",
     "text": [
      "Original List:  [{'a': '1'}, {'a': '02'}, {'b': '1'}, {'b': '05'}, {'c': '05'}, {'d': '09'}, {'e': '07'}]\n",
      "Unique Values:  {'02', '07', '09', '1', '05'}\n"
     ]
    }
   ],
   "source": [
    "#3. Write a Python program to print all unique values in a dictionary\n",
    "L=[{\"a\":\"1\"}, {\"a\": \"02\"}, {\"b\": \"1\"}, {\"b\": \"05\"}, {\"c\":\"05\"}, {\"d\":\"09\"},{\"e\":\"07\"}]\n",
    "\n",
    "print(\"Original List: \",L)\n",
    "u = set( val for dic in L for val in dic.values())\n",
    "print(\"Unique Values: \",u)"
   ]
  },
  {
   "cell_type": "code",
   "execution_count": 6,
   "metadata": {},
   "outputs": [
    {
     "name": "stdout",
     "output_type": "stream",
     "text": [
      "{1: {2: {3: {4: {5: {}}}}}}\n"
     ]
    }
   ],
   "source": [
    "#7. Write a Python program to convert a list into a nested dictionary of keys.\n",
    "\n",
    "l1 = [1, 2, 3, 4,5]\n",
    "d = current = {}\n",
    "for name in l1:\n",
    "    current[name] = {}\n",
    "    current = current[name]\n",
    "print(d)"
   ]
  },
  {
   "cell_type": "code",
   "execution_count": 7,
   "metadata": {},
   "outputs": [
    {
     "name": "stdout",
     "output_type": "stream",
     "text": [
      "{'n1': [1, 2, 3], 'n2': [1, 2, 5], 'n3': [2, 3, 4]}\n"
     ]
    }
   ],
   "source": [
    "\n",
    "#8. Write a Python program to sort a list alphabetically in a dictionary.\n",
    "\n",
    "n = {'n1': [2, 3, 1], 'n2': [5, 1, 2], 'n3': [3, 2, 4]}\n",
    "sorted_dict = {x: sorted(y) for x, y in n.items()}\n",
    "print(sorted_dict)"
   ]
  },
  {
   "cell_type": "code",
   "execution_count": 8,
   "metadata": {},
   "outputs": [
    {
     "name": "stdout",
     "output_type": "stream",
     "text": [
      "[('a', 8), ('c', 7), ('b', 3)]\n"
     ]
    }
   ],
   "source": [
    "#9. Write a Python program to sort Counter by value.\n",
    "\n",
    "from collections import Counter\n",
    "x = Counter({'a':8, 'b':3, 'c':7})\n",
    "print(x.most_common())"
   ]
  },
  {
   "cell_type": "code",
   "execution_count": 9,
   "metadata": {},
   "outputs": [
    {
     "name": "stdout",
     "output_type": "stream",
     "text": [
      "a: 1 is present in both x and y\n"
     ]
    }
   ],
   "source": [
    "#10. Write a Python program to match key values in two dictionaries.\n",
    "\n",
    "x = {'a': 1, 'b': 3, 'c': 2}\n",
    "y = {'a': 1, 'b': 2}\n",
    "for (key, value) in set(x.items()) & set(y.items()):\n",
    "    print('%s: %s is present in both x and y' % (key, value))"
   ]
  },
  {
   "cell_type": "code",
   "execution_count": 10,
   "metadata": {},
   "outputs": [
    {
     "name": "stdout",
     "output_type": "stream",
     "text": [
      "('Python', False, 3.7, 1)\n"
     ]
    }
   ],
   "source": [
    "################################# Python Data Types: Tuple - Exercises ################################\n",
    "\n",
    "#1. Write a Python program to create a tuple with different data types.\n",
    "\n",
    "t = (\"Python\", False, 3.7, 1)\n",
    "print(t)"
   ]
  },
  {
   "cell_type": "code",
   "execution_count": 12,
   "metadata": {},
   "outputs": [
    {
     "name": "stdout",
     "output_type": "stream",
     "text": [
      "(5, 7, 8, 9, 7)\n",
      "(5, 7, 8, 9, 7, 54)\n",
      "(5, 7, 8, 9, 7, 54, 82)\n"
     ]
    }
   ],
   "source": [
    "#2. Write a Python program to add an item in a tuple\n",
    "\n",
    "t = (5,7,8,9,7)\n",
    "print(t)\n",
    "\n",
    "t = t + (54,)\n",
    "print(t)\n",
    "\n",
    "l=list(t)\n",
    "l.append(82)\n",
    "t=tuple(l)\n",
    "print(t)"
   ]
  },
  {
   "cell_type": "code",
   "execution_count": 13,
   "metadata": {},
   "outputs": [
    {
     "name": "stdout",
     "output_type": "stream",
     "text": [
      "Python\n"
     ]
    }
   ],
   "source": [
    "#3. Write a Python program to convert a tuple to a string.\n",
    "\n",
    "t = ('P', 'y', 't', 'h', 'o', 'n')\n",
    "str =  ''.join(t)\n",
    "print(str)"
   ]
  },
  {
   "cell_type": "code",
   "execution_count": 15,
   "metadata": {},
   "outputs": [
    {
     "name": "stdout",
     "output_type": "stream",
     "text": [
      "(12, 22, 33, 14, 12, 22)\n",
      "2\n"
     ]
    }
   ],
   "source": [
    "\n",
    "#4. Write a Python program to find the repeated items of a tuple\n",
    "\n",
    "t = 12,22,33,14,12,22\n",
    "print(t)\n",
    "count = t.count(22)\n",
    "print(count)"
   ]
  },
  {
   "cell_type": "code",
   "execution_count": 16,
   "metadata": {},
   "outputs": [
    {
     "name": "stdout",
     "output_type": "stream",
     "text": [
      "{'a': 1, 'b': 2}\n"
     ]
    }
   ],
   "source": [
    "#6. Write a Python program to convert a tuple to a dictionary.\n",
    "\n",
    "t = ((1, \"a\"),(2, \"b\"))\n",
    "print(dict((y, x) for x, y in t))"
   ]
  },
  {
   "cell_type": "code",
   "execution_count": 17,
   "metadata": {},
   "outputs": [
    {
     "name": "stdout",
     "output_type": "stream",
     "text": [
      "Number of even numbers : 4\n",
      "Number of odd numbers : 5\n"
     ]
    }
   ],
   "source": [
    "############################## Python Conditional Statements and loops ######################\n",
    "\n",
    "#1. Write a Python program to count the number of even and odd numbers from a series of numbers.\n",
    "\n",
    "numbers = (1, 2, 3, 4, 5, 6, 7, 8, 9)\n",
    "count_odd = 0\n",
    "count_even = 0\n",
    "for x in numbers:\n",
    "        if not x % 2:\n",
    "    \t     count_even+=1\n",
    "        else:\n",
    "    \t     count_odd+=1\n",
    "print(\"Number of even numbers :\",count_even)\n",
    "print(\"Number of odd numbers :\",count_odd)"
   ]
  },
  {
   "cell_type": "code",
   "execution_count": 18,
   "metadata": {},
   "outputs": [
    {
     "name": "stdout",
     "output_type": "stream",
     "text": [
      "0 1 2 4 5 \n",
      "\n"
     ]
    }
   ],
   "source": [
    "#2. Write a Python program that prints all the numbers from 0 to 6 except 3 and 6.\n",
    "\n",
    "for x in range(6):\n",
    "    if (x == 3 or x == 6):\n",
    "        continue\n",
    "    print(x, end=' ')\n",
    "print(\"\\n\")"
   ]
  },
  {
   "cell_type": "code",
   "execution_count": 19,
   "metadata": {},
   "outputs": [
    {
     "name": "stdout",
     "output_type": "stream",
     "text": [
      "1\n",
      "1\n",
      "2\n",
      "3\n",
      "5\n",
      "8\n",
      "13\n",
      "21\n",
      "34\n"
     ]
    }
   ],
   "source": [
    "#3. Write a Python program to get the Fibonacci series between 0 to 50.\n",
    "\n",
    "x, y = 0, 1\n",
    "\n",
    "while y < 50:\n",
    "    print(y)\n",
    "    x, y = y, x + y"
   ]
  },
  {
   "cell_type": "code",
   "execution_count": 20,
   "metadata": {},
   "outputs": [
    {
     "name": "stdout",
     "output_type": "stream",
     "text": [
      "Enter a number: 12\n",
      "12 x 1 = 12\n",
      "12 x 2 = 24\n",
      "12 x 3 = 36\n",
      "12 x 4 = 48\n",
      "12 x 5 = 60\n",
      "12 x 6 = 72\n",
      "12 x 7 = 84\n",
      "12 x 8 = 96\n",
      "12 x 9 = 108\n",
      "12 x 10 = 120\n"
     ]
    }
   ],
   "source": [
    "\n",
    "#5. Write a Python program to create the multiplication table (from 1 to 10) of a number.\n",
    "\n",
    "n = int(input(\"Enter a number: \"))\n",
    "\n",
    "for i in range(1, 11):\n",
    "    print(n, 'x', i, '=', n * i)"
   ]
  },
  {
   "cell_type": "code",
   "execution_count": 21,
   "metadata": {},
   "outputs": [
    {
     "name": "stdout",
     "output_type": "stream",
     "text": [
      "6\n"
     ]
    }
   ],
   "source": [
    "############################## Python functions - Exercises ################################\n",
    "\n",
    "\n",
    "#1. Write a Python function to find the Max of three numbers\n",
    "\n",
    "#1. Write a Python function to find the Max of three numbers\n",
    "\n",
    "def max_of_two( x, y ):\n",
    "    if x > y:\n",
    "        return x\n",
    "    return y\n",
    "def max_of_three( x, y, z ):\n",
    "    return max_of_two( x, max_of_two( y, z ) )\n",
    "print(max_of_three(4, 6, -2))\n",
    "\n"
   ]
  },
  {
   "cell_type": "code",
   "execution_count": 22,
   "metadata": {},
   "outputs": [
    {
     "name": "stdout",
     "output_type": "stream",
     "text": [
      "22\n"
     ]
    }
   ],
   "source": [
    "\n",
    "#2. Write a Python function to sum all the numbers in a list\n",
    "\n",
    "def sum(numbers):\n",
    "    total = 0\n",
    "    for x in numbers:\n",
    "        total += x\n",
    "    return total\n",
    "print(sum((2, 1, 6, 5, 8)))"
   ]
  },
  {
   "cell_type": "code",
   "execution_count": 24,
   "metadata": {},
   "outputs": [
    {
     "name": "stdout",
     "output_type": "stream",
     "text": [
      "840\n"
     ]
    }
   ],
   "source": [
    "\n",
    "#3. Write a Python function to multiply all the numbers in a list\n",
    "\n",
    "def multiply(numbers):\n",
    "    total = 1\n",
    "    for x in numbers:\n",
    "        total *= x\n",
    "    return total\n",
    "print(multiply((2, 2, -6, 5, -7)))"
   ]
  },
  {
   "cell_type": "code",
   "execution_count": 25,
   "metadata": {},
   "outputs": [
    {
     "name": "stdout",
     "output_type": "stream",
     "text": [
      "[2, 4, 6, 8]\n"
     ]
    }
   ],
   "source": [
    "#5. Write a Python program to print the even numbers from a given list\n",
    "\n",
    "def even_no(l):\n",
    "    enum = []\n",
    "    for n in l:\n",
    "        if n % 2 == 0:\n",
    "            enum.append(n)\n",
    "    return enum\n",
    "print(even_no([1, 2, 3, 4, 5, 6, 7, 8, 9]))"
   ]
  },
  {
   "cell_type": "code",
   "execution_count": null,
   "metadata": {},
   "outputs": [],
   "source": []
  }
 ],
 "metadata": {
  "kernelspec": {
   "display_name": "Python 3",
   "language": "python",
   "name": "python3"
  },
  "language_info": {
   "codemirror_mode": {
    "name": "ipython",
    "version": 3
   },
   "file_extension": ".py",
   "mimetype": "text/x-python",
   "name": "python",
   "nbconvert_exporter": "python",
   "pygments_lexer": "ipython3",
   "version": "3.7.2"
  }
 },
 "nbformat": 4,
 "nbformat_minor": 2
}
